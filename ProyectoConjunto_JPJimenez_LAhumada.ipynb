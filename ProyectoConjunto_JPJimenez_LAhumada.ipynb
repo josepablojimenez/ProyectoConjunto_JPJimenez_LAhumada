{
 "cells": [
  {
   "cell_type": "markdown",
   "id": "8a346a7f",
   "metadata": {},
   "source": [
    "<img style=\"float: left; margin: 30px 15px 15px 15px;\" src=\"https://pngimage.net/wp-content/uploads/2018/06/logo-iteso-png-5.png\" width=\"300\" height=\"500\" /> \n",
    "    \n",
    "    \n",
    "### <font color='navy'> Simulación de procesos financieros. \n",
    "\n",
    "**Nombres:** José Pablo Jiménez Mendoza & Luis Jorge Ahumada Cerda\n",
    "\n",
    "**Fecha:** 23 de febrero del 2023.\n",
    "\n",
    "**Expediente** : 733762 & 728125\n",
    "    \n",
    "**Profesor:** Oscar David Jaramillo Zuluaga.\n",
    "    \n",
    "**Link Github**: https://github.com/josepablojimenez/ProyectoConjunto_JPJimenez_LAhumada.git\n",
    "\n",
    "# Tarea 3: Clase 6"
   ]
  },
  {
   "cell_type": "markdown",
   "id": "1ae87b76",
   "metadata": {},
   "source": [
    "> Usando compresión de listas o funciones map(sino recuerda como funciona observar el siguiente enlace https://www.pythonforbeginners.com/lists/list-comprehensions-in-python/), resolver los siguientes ejercicios:\n",
    "\n"
   ]
  },
  {
   "cell_type": "code",
   "execution_count": 14,
   "id": "ca849e30",
   "metadata": {},
   "outputs": [],
   "source": [
    "# Librerias\n",
    "import numpy as np"
   ]
  },
  {
   "cell_type": "markdown",
   "id": "efce0576",
   "metadata": {},
   "source": [
    "# Ejercicio 1\n",
    ">1. Resolver la siguiente ecuación recursiva usando funciones como se vió en clase\n",
    "$$ D_{n}=(n-1) D_{n-1}+(n-1) D_{n-2} \\quad n\\ge 3$$\n",
    "con $D_1=0$ y $D_2 = 1$"
   ]
  },
  {
   "cell_type": "code",
   "execution_count": 2,
   "id": "52d248a4",
   "metadata": {},
   "outputs": [
    {
     "name": "stdout",
     "output_type": "stream",
     "text": [
      "265\n"
     ]
    }
   ],
   "source": [
    "# codigo estudiante 1\n",
    "\n",
    "def D(n):\n",
    "    if n == 1:\n",
    "        return 0\n",
    "    elif n == 2:\n",
    "        return 1\n",
    "    else:\n",
    "        return (n-1)*D(n-1) + (n-1)*D(n-2)\n",
    "\n",
    "print(D(6)) \n"
   ]
  },
  {
   "cell_type": "code",
   "execution_count": 33,
   "id": "b67d0e8f",
   "metadata": {},
   "outputs": [
    {
     "name": "stdout",
     "output_type": "stream",
     "text": [
      "[0, 1, 2, 9, 44, 265, 1854, 14833, 133496]\n"
     ]
    }
   ],
   "source": [
    "# codigo estudiante 2\n",
    "\n",
    "\n",
    "def D(n):\n",
    "    if n==1:\n",
    "        return 0\n",
    "    if n==2:\n",
    "        return 1\n",
    "    else:\n",
    "        return (n-1)*D(n-1)+(n-1)*D(n-2)\n",
    "\n",
    "n = np.arange(1,10,1)\n",
    "\n",
    "sol = list(map(D,n))\n",
    "print(sol)"
   ]
  },
  {
   "cell_type": "markdown",
   "id": "c0b46f85",
   "metadata": {},
   "source": [
    "# Ejercicio 2\n",
    ">2. Count the number of spaces in the following string `variable =  relaciónn  requiere,  para obtener  el  valor  de un  cierto  término,  el conocimiento de los dos anteriores`.\n"
   ]
  },
  {
   "cell_type": "code",
   "execution_count": 4,
   "id": "ffd7895a",
   "metadata": {},
   "outputs": [
    {
     "name": "stdout",
     "output_type": "stream",
     "text": [
      "26\n"
     ]
    }
   ],
   "source": [
    "# codigo estudiante 1 \n",
    "\n",
    "variable = \"variable =  relaciónn  requiere,  para obtener  el  valor  de un  cierto  término,  el conocimiento de los dos anteriores.\"\n",
    "espacios = sum(1 for char in variable if char == ' ')\n",
    "print(espacios) "
   ]
  },
  {
   "cell_type": "code",
   "execution_count": 32,
   "id": "3af6a2b3",
   "metadata": {},
   "outputs": [
    {
     "name": "stdout",
     "output_type": "stream",
     "text": [
      "26\n"
     ]
    }
   ],
   "source": [
    "# solucion del estudiante 2\n",
    "\n",
    "def count_spaces(string):\n",
    "    sol = string.count(' ')\n",
    "    return sol\n",
    "\n",
    "string = 'variable =  relaciónn  requiere,  para obtener  el  valor  de un  cierto  término,  el conocimiento de los dos anteriores.'\n",
    "\n",
    "result = count_spaces(string)\n",
    "print(result)"
   ]
  },
  {
   "cell_type": "markdown",
   "id": "1db818c0",
   "metadata": {},
   "source": [
    "### Ejercicio 3: \n",
    ">3. Remove all of the vowels in a string [make a list of the non-vowels]."
   ]
  },
  {
   "cell_type": "code",
   "execution_count": 37,
   "id": "bc87f31a",
   "metadata": {},
   "outputs": [
    {
     "name": "stdout",
     "output_type": "stream",
     "text": [
      "rlcónn rqr, pr btnr ls vlrs d n crt térmn, l cncmnt d ls ds ntrrs.\n"
     ]
    }
   ],
   "source": [
    "# codigo estudiante 1 \n",
    "\n",
    "text = \"relaciónn requiere, para obtener los valores de un cierto término, el conocimiento de los dos anteriores.\"\n",
    "no_vowels = [char for char in text if char.lower() not in ['a', 'e', 'i', 'o', 'u']]\n",
    "nuevo_text = ''.join(no_vowels)\n",
    "print(nuevo_text) "
   ]
  },
  {
   "cell_type": "code",
   "execution_count": 31,
   "id": "717df6de",
   "metadata": {},
   "outputs": [
    {
     "name": "stdout",
     "output_type": "stream",
     "text": [
      "vrbl =  rlcónn  rqr,  pr btnr  l  vlr  d n  crt  térmn,  l cncmnt d ls ds ntrrs.\n"
     ]
    }
   ],
   "source": [
    "# codigo de estudiante 2\n",
    "\n",
    "def remove_vowel(string):\n",
    "    vowels = ['a','e','i','o','u']\n",
    "    result = ''.join([letter for letter in string if letter.lower() not in vowels])\n",
    "    return result\n",
    "string = 'variable =  relaciónn  requiere,  para obtener  el  valor  de un  cierto  término,  el conocimiento de los dos anteriores.'\n",
    "\n",
    "x = remove_vowel(string)\n",
    "print(x)"
   ]
  },
  {
   "cell_type": "markdown",
   "id": "45fb0a4d",
   "metadata": {},
   "source": [
    "### Ejercicio 4: \n",
    ">4. Find all of the words in a string that are less than 4 letters."
   ]
  },
  {
   "cell_type": "code",
   "execution_count": 11,
   "id": "c03893f5",
   "metadata": {},
   "outputs": [
    {
     "name": "stdout",
     "output_type": "stream",
     "text": [
      "['los', 'de', 'un', 'el', 'de', 'los', 'dos']\n"
     ]
    }
   ],
   "source": [
    "# codigo estudiante 1 \n",
    "\n",
    "string = \"relaciónn requiere, para obtener los valores de un cierto término, el conocimiento de los dos anteriores.\"\n",
    "words = string.split()\n",
    "m4 = [word for word in words if len(word) < 4]\n",
    "print(m4) "
   ]
  },
  {
   "cell_type": "code",
   "execution_count": 30,
   "id": "41eba06c",
   "metadata": {},
   "outputs": [
    {
     "name": "stdout",
     "output_type": "stream",
     "text": [
      "= el de un el de los dos\n"
     ]
    }
   ],
   "source": [
    "# codigo estudiante 2\n",
    "\n",
    "def remove_words(string):\n",
    "    result = ' '.join([word for word in string.split() if len(word)<4])\n",
    "    return result\n",
    "\n",
    "string = 'variable =  relaciónn  requiere,  para obtener  el  valor  de un  cierto  término,  el conocimiento de los dos anteriores.'\n",
    "y = remove_words(string)\n",
    "print(y)"
   ]
  },
  {
   "cell_type": "markdown",
   "id": "a4f349f2",
   "metadata": {},
   "source": [
    "### Ejercicio 5: \n",
    ">5. Use a dictionary comprehension to count the length of each word in a sentence. "
   ]
  },
  {
   "cell_type": "code",
   "execution_count": 22,
   "id": "b6726124",
   "metadata": {},
   "outputs": [
    {
     "name": "stdout",
     "output_type": "stream",
     "text": [
      "{'relaciónn': 9, 'requiere,': 9, 'para': 4, 'obtener': 7, 'los': 3, 'valores': 7, 'de': 2, 'un': 2, 'cierto': 6, 'término,': 8, 'el': 2, 'conocimiento': 12, 'dos': 3, 'anteriores.': 11}\n"
     ]
    }
   ],
   "source": [
    "# codigo estudiante 1 \n",
    "\n",
    "sentence = \"relaciónn requiere, para obtener los valores de un cierto término, el conocimiento de los dos anteriores.\"\n",
    "counts = {word: len(word) for word in sentence.split()}\n",
    "print(counts)"
   ]
  },
  {
   "cell_type": "code",
   "execution_count": 29,
   "id": "58e50d3d",
   "metadata": {},
   "outputs": [
    {
     "name": "stdout",
     "output_type": "stream",
     "text": [
      "{'variable': 8, '=': 1, 'relaciónn': 9, 'requiere,': 9, 'para': 4, 'obtener': 7, 'el': 2, 'valor': 5, 'de': 2, 'un': 2, 'cierto': 6, 'término,': 8, 'conocimiento': 12, 'los': 3, 'dos': 3, 'anteriores.': 11}\n"
     ]
    }
   ],
   "source": [
    "# codigo estudiante 2\n",
    "\n",
    "sentence = 'variable =  relaciónn  requiere,  para obtener  el  valor  de un  cierto  término,  el conocimiento de los dos anteriores.'\n",
    "solucion = {word: len(word) for word in string.split()}\n",
    "print(solucion)"
   ]
  },
  {
   "cell_type": "markdown",
   "id": "57773c7e",
   "metadata": {},
   "source": [
    "### Ejercicio 6: \n",
    ">6. Use a nested list comprehension to find all of the numbers from 1-1000 that are divisible by any single digit besides 1 (2-9). "
   ]
  },
  {
   "cell_type": "code",
   "execution_count": 24,
   "id": "854a9183",
   "metadata": {},
   "outputs": [
    {
     "name": "stdout",
     "output_type": "stream",
     "text": [
      "[2, 3, 4, 5, 6, 7, 8, 9, 10, 12, 14, 15, 16, 18, 20, 21, 22, 24, 25, 26, 27, 28, 30, 32, 33, 34, 35, 36, 38, 39, 40, 42, 44, 45, 46, 48, 49, 50, 51, 52, 54, 55, 56, 57, 58, 60, 62, 63, 64, 65, 66, 68, 69, 70, 72, 74, 75, 76, 77, 78, 80, 81, 82, 84, 85, 86, 87, 88, 90, 91, 92, 93, 94, 95, 96, 98, 99, 100, 102, 104, 105, 106, 108, 110, 111, 112, 114, 115, 116, 117, 118, 119, 120, 122, 123, 124, 125, 126, 128, 129, 130, 132, 133, 134, 135, 136, 138, 140, 141, 142, 144, 145, 146, 147, 148, 150, 152, 153, 154, 155, 156, 158, 159, 160, 161, 162, 164, 165, 166, 168, 170, 171, 172, 174, 175, 176, 177, 178, 180, 182, 183, 184, 185, 186, 188, 189, 190, 192, 194, 195, 196, 198, 200, 201, 202, 203, 204, 205, 206, 207, 208, 210, 212, 213, 214, 215, 216, 217, 218, 219, 220, 222, 224, 225, 226, 228, 230, 231, 232, 234, 235, 236, 237, 238, 240, 242, 243, 244, 245, 246, 248, 249, 250, 252, 254, 255, 256, 258, 259, 260, 261, 262, 264, 265, 266, 267, 268, 270, 272, 273, 274, 275, 276, 278, 279, 280, 282, 284, 285, 286, 287, 288, 290, 291, 292, 294, 295, 296, 297, 298, 300, 301, 302, 303, 304, 305, 306, 308, 309, 310, 312, 314, 315, 316, 318, 320, 321, 322, 324, 325, 326, 327, 328, 329, 330, 332, 333, 334, 335, 336, 338, 339, 340, 342, 343, 344, 345, 346, 348, 350, 351, 352, 354, 355, 356, 357, 358, 360, 362, 363, 364, 365, 366, 368, 369, 370, 371, 372, 374, 375, 376, 378, 380, 381, 382, 384, 385, 386, 387, 388, 390, 392, 393, 394, 395, 396, 398, 399, 400, 402, 404, 405, 406, 408, 410, 411, 412, 413, 414, 415, 416, 417, 418, 420, 422, 423, 424, 425, 426, 427, 428, 429, 430, 432, 434, 435, 436, 438, 440, 441, 442, 444, 445, 446, 447, 448, 450, 452, 453, 454, 455, 456, 458, 459, 460, 462, 464, 465, 466, 468, 469, 470, 471, 472, 474, 475, 476, 477, 478, 480, 482, 483, 484, 485, 486, 488, 489, 490, 492, 494, 495, 496, 497, 498, 500, 501, 502, 504, 505, 506, 507, 508, 510, 511, 512, 513, 514, 515, 516, 518, 519, 520, 522, 524, 525, 526, 528, 530, 531, 532, 534, 535, 536, 537, 538, 539, 540, 542, 543, 544, 545, 546, 548, 549, 550, 552, 553, 554, 555, 556, 558, 560, 561, 562, 564, 565, 566, 567, 568, 570, 572, 573, 574, 575, 576, 578, 579, 580, 581, 582, 584, 585, 586, 588, 590, 591, 592, 594, 595, 596, 597, 598, 600, 602, 603, 604, 605, 606, 608, 609, 610, 612, 614, 615, 616, 618, 620, 621, 622, 623, 624, 625, 626, 627, 628, 630, 632, 633, 634, 635, 636, 637, 638, 639, 640, 642, 644, 645, 646, 648, 650, 651, 652, 654, 655, 656, 657, 658, 660, 662, 663, 664, 665, 666, 668, 669, 670, 672, 674, 675, 676, 678, 679, 680, 681, 682, 684, 685, 686, 687, 688, 690, 692, 693, 694, 695, 696, 698, 699, 700, 702, 704, 705, 706, 707, 708, 710, 711, 712, 714, 715, 716, 717, 718, 720, 721, 722, 723, 724, 725, 726, 728, 729, 730, 732, 734, 735, 736, 738, 740, 741, 742, 744, 745, 746, 747, 748, 749, 750, 752, 753, 754, 755, 756, 758, 759, 760, 762, 763, 764, 765, 766, 768, 770, 771, 772, 774, 775, 776, 777, 778, 780, 782, 783, 784, 785, 786, 788, 789, 790, 791, 792, 794, 795, 796, 798, 800, 801, 802, 804, 805, 806, 807, 808, 810, 812, 813, 814, 815, 816, 818, 819, 820, 822, 824, 825, 826, 828, 830, 831, 832, 833, 834, 835, 836, 837, 838, 840, 842, 843, 844, 845, 846, 847, 848, 849, 850, 852, 854, 855, 856, 858, 860, 861, 862, 864, 865, 866, 867, 868, 870, 872, 873, 874, 875, 876, 878, 879, 880, 882, 884, 885, 886, 888, 889, 890, 891, 892, 894, 895, 896, 897, 898, 900, 902, 903, 904, 905, 906, 908, 909, 910, 912, 914, 915, 916, 917, 918, 920, 921, 922, 924, 925, 926, 927, 928, 930, 931, 932, 933, 934, 935, 936, 938, 939, 940, 942, 944, 945, 946, 948, 950, 951, 952, 954, 955, 956, 957, 958, 959, 960, 962, 963, 964, 965, 966, 968, 969, 970, 972, 973, 974, 975, 976, 978, 980, 981, 982, 984, 985, 986, 987, 988, 990, 992, 993, 994, 995, 996, 998, 999, 1000]\n"
     ]
    }
   ],
   "source": [
    "# codigo estudiante 1 problema 6\n",
    "\n",
    "divisible = [num for num in range(1, 1001) if any(num % div == 0 for div in range(2, 10))]\n",
    "print(divisible) "
   ]
  },
  {
   "cell_type": "code",
   "execution_count": 36,
   "id": "614a71af",
   "metadata": {},
   "outputs": [
    {
     "name": "stdout",
     "output_type": "stream",
     "text": [
      "[2, 3, 4, 5, 6, 7, 8, 9, 10, 12, 14, 15, 16, 18, 20, 21, 22, 24, 25, 26, 27, 28, 30, 32, 33, 34, 35, 36, 38, 39, 40, 42, 44, 45, 46, 48, 49, 50, 51, 52, 54, 55, 56, 57, 58, 60, 62, 63, 64, 65, 66, 68, 69, 70, 72, 74, 75, 76, 77, 78, 80, 81, 82, 84, 85, 86, 87, 88, 90, 91, 92, 93, 94, 95, 96, 98, 99, 100, 102, 104, 105, 106, 108, 110, 111, 112, 114, 115, 116, 117, 118, 119, 120, 122, 123, 124, 125, 126, 128, 129, 130, 132, 133, 134, 135, 136, 138, 140, 141, 142, 144, 145, 146, 147, 148, 150, 152, 153, 154, 155, 156, 158, 159, 160, 161, 162, 164, 165, 166, 168, 170, 171, 172, 174, 175, 176, 177, 178, 180, 182, 183, 184, 185, 186, 188, 189, 190, 192, 194, 195, 196, 198, 200, 201, 202, 203, 204, 205, 206, 207, 208, 210, 212, 213, 214, 215, 216, 217, 218, 219, 220, 222, 224, 225, 226, 228, 230, 231, 232, 234, 235, 236, 237, 238, 240, 242, 243, 244, 245, 246, 248, 249, 250, 252, 254, 255, 256, 258, 259, 260, 261, 262, 264, 265, 266, 267, 268, 270, 272, 273, 274, 275, 276, 278, 279, 280, 282, 284, 285, 286, 287, 288, 290, 291, 292, 294, 295, 296, 297, 298, 300, 301, 302, 303, 304, 305, 306, 308, 309, 310, 312, 314, 315, 316, 318, 320, 321, 322, 324, 325, 326, 327, 328, 329, 330, 332, 333, 334, 335, 336, 338, 339, 340, 342, 343, 344, 345, 346, 348, 350, 351, 352, 354, 355, 356, 357, 358, 360, 362, 363, 364, 365, 366, 368, 369, 370, 371, 372, 374, 375, 376, 378, 380, 381, 382, 384, 385, 386, 387, 388, 390, 392, 393, 394, 395, 396, 398, 399, 400, 402, 404, 405, 406, 408, 410, 411, 412, 413, 414, 415, 416, 417, 418, 420, 422, 423, 424, 425, 426, 427, 428, 429, 430, 432, 434, 435, 436, 438, 440, 441, 442, 444, 445, 446, 447, 448, 450, 452, 453, 454, 455, 456, 458, 459, 460, 462, 464, 465, 466, 468, 469, 470, 471, 472, 474, 475, 476, 477, 478, 480, 482, 483, 484, 485, 486, 488, 489, 490, 492, 494, 495, 496, 497, 498, 500, 501, 502, 504, 505, 506, 507, 508, 510, 511, 512, 513, 514, 515, 516, 518, 519, 520, 522, 524, 525, 526, 528, 530, 531, 532, 534, 535, 536, 537, 538, 539, 540, 542, 543, 544, 545, 546, 548, 549, 550, 552, 553, 554, 555, 556, 558, 560, 561, 562, 564, 565, 566, 567, 568, 570, 572, 573, 574, 575, 576, 578, 579, 580, 581, 582, 584, 585, 586, 588, 590, 591, 592, 594, 595, 596, 597, 598, 600, 602, 603, 604, 605, 606, 608, 609, 610, 612, 614, 615, 616, 618, 620, 621, 622, 623, 624, 625, 626, 627, 628, 630, 632, 633, 634, 635, 636, 637, 638, 639, 640, 642, 644, 645, 646, 648, 650, 651, 652, 654, 655, 656, 657, 658, 660, 662, 663, 664, 665, 666, 668, 669, 670, 672, 674, 675, 676, 678, 679, 680, 681, 682, 684, 685, 686, 687, 688, 690, 692, 693, 694, 695, 696, 698, 699, 700, 702, 704, 705, 706, 707, 708, 710, 711, 712, 714, 715, 716, 717, 718, 720, 721, 722, 723, 724, 725, 726, 728, 729, 730, 732, 734, 735, 736, 738, 740, 741, 742, 744, 745, 746, 747, 748, 749, 750, 752, 753, 754, 755, 756, 758, 759, 760, 762, 763, 764, 765, 766, 768, 770, 771, 772, 774, 775, 776, 777, 778, 780, 782, 783, 784, 785, 786, 788, 789, 790, 791, 792, 794, 795, 796, 798, 800, 801, 802, 804, 805, 806, 807, 808, 810, 812, 813, 814, 815, 816, 818, 819, 820, 822, 824, 825, 826, 828, 830, 831, 832, 833, 834, 835, 836, 837, 838, 840, 842, 843, 844, 845, 846, 847, 848, 849, 850, 852, 854, 855, 856, 858, 860, 861, 862, 864, 865, 866, 867, 868, 870, 872, 873, 874, 875, 876, 878, 879, 880, 882, 884, 885, 886, 888, 889, 890, 891, 892, 894, 895, 896, 897, 898, 900, 902, 903, 904, 905, 906, 908, 909, 910, 912, 914, 915, 916, 917, 918, 920, 921, 922, 924, 925, 926, 927, 928, 930, 931, 932, 933, 934, 935, 936, 938, 939, 940, 942, 944, 945, 946, 948, 950, 951, 952, 954, 955, 956, 957, 958, 959, 960, 962, 963, 964, 965, 966, 968, 969, 970, 972, 973, 974, 975, 976, 978, 980, 981, 982, 984, 985, 986, 987, 988, 990, 992, 993, 994, 995, 996, 998, 999, 1000]\n"
     ]
    }
   ],
   "source": [
    "# codigo estudiante 2\n",
    "\n",
    "rango_numeros = np.arange(start=1, stop=1001, step=1)\n",
    "divisores = np.arange(start=2, stop=10, step=1)\n",
    "\n",
    "solucion2 = [n for n in rango_numeros if any([ n % d == 0 for d in divisores])]\n",
    "print(solucion2)"
   ]
  },
  {
   "cell_type": "markdown",
   "id": "10ccc8aa",
   "metadata": {},
   "source": [
    "# Tarea\n",
    "\n",
    "# 1\n",
    "Como ejemplo simple de una simulación de Monte Carlo, considere calcular la probabilidad de una suma particular del lanzamiento de tres dados (cada dado tiene valores del uno al seis). Además cada dado tiene las siguientes carácterísticas: el primer dado no está cargado (distribución uniforme todos son equiprobables); el segundo y tercer dado están cargados basados en una distribución binomial con parámetros (`n=5, p=0.5` y `n=5, p=0.2`). Calcule la probabilidad de que la suma resultante sea 7, 14 o 18. "
   ]
  },
  {
   "cell_type": "code",
   "execution_count": 1,
   "id": "8404d45a",
   "metadata": {},
   "outputs": [
    {
     "name": "stdout",
     "output_type": "stream",
     "text": [
      "La probabilidad de obtener una suma de 7 es 0.1267.\n",
      "La probabilidad de obtener una suma de 14 es 0.0137.\n",
      "La probabilidad de obtener una suma de 18 es 0.0000.\n"
     ]
    }
   ],
   "source": [
    "# Solución estudiante 1\n",
    "import numpy as np\n",
    "\n",
    "# Definir los parámetros de los dados\n",
    "n1, p1 = 1, 1/6 # Primer dado no cargado\n",
    "n2, p2 = 5, 0.5 # Segundo dado cargado\n",
    "n3, p3 = 5, 0.2 # Tercer dado cargado\n",
    "\n",
    "# Definir la suma de los dados que queremos calcular\n",
    "sumas = [7, 14, 18]\n",
    "\n",
    "# Realizar la simulación de Monte Carlo\n",
    "N = int(1e6) # Número de tiradas de los dados\n",
    "contadores = {s: 0 for s in sumas} # Contadores para cada suma\n",
    "for i in range(N):\n",
    "    dado1 = np.random.choice(6) + 1 # Tirada del primer dado\n",
    "    dado2 = np.random.binomial(n2, p2) + 1 # Tirada del segundo dado cargado\n",
    "    dado3 = np.random.binomial(n3, p3) + 1 # Tirada del tercer dado cargado\n",
    "    suma = dado1 + dado2 + dado3 # Suma de los tres dados\n",
    "    if suma in sumas:\n",
    "        contadores[suma] += 1\n",
    "\n",
    "# Calcular las probabilidades\n",
    "probabilidades = {s: contadores[s] / N for s in sumas}\n",
    "\n",
    "# Imprimir los resultados\n",
    "for s in sumas:\n",
    "    print(f\"La probabilidad de obtener una suma de {s} es {probabilidades[s]:.4f}.\")\n"
   ]
  },
  {
   "cell_type": "code",
   "execution_count": 13,
   "id": "ad489632",
   "metadata": {},
   "outputs": [],
   "source": [
    "# solucion estudiante 2"
   ]
  }
 ],
 "metadata": {
  "kernelspec": {
   "display_name": "Python 3 (ipykernel)",
   "language": "python",
   "name": "python3"
  },
  "language_info": {
   "codemirror_mode": {
    "name": "ipython",
    "version": 3
   },
   "file_extension": ".py",
   "mimetype": "text/x-python",
   "name": "python",
   "nbconvert_exporter": "python",
   "pygments_lexer": "ipython3",
   "version": "3.9.13"
  }
 },
 "nbformat": 4,
 "nbformat_minor": 5
}
